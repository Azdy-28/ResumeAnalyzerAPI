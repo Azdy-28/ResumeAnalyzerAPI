{
 "cells": [
  {
   "cell_type": "markdown",
   "metadata": {},
   "source": [
    "## Get The text from the PDF"
   ]
  },
  {
   "cell_type": "code",
   "execution_count": 23,
   "metadata": {},
   "outputs": [
    {
     "name": "stdout",
     "output_type": "stream",
     "text": [
      "Requirement already satisfied: pdfplumber in c:\\vs_code\\projects\\venv\\lib\\site-packages (0.11.7)\n",
      "Requirement already satisfied: pytesseract in c:\\vs_code\\projects\\venv\\lib\\site-packages (0.3.13)\n",
      "Requirement already satisfied: pdf2image in c:\\vs_code\\projects\\venv\\lib\\site-packages (1.17.0)\n",
      "Requirement already satisfied: pdfminer.six==20250506 in c:\\vs_code\\projects\\venv\\lib\\site-packages (from pdfplumber) (20250506)\n",
      "Requirement already satisfied: Pillow>=9.1 in c:\\vs_code\\projects\\venv\\lib\\site-packages (from pdfplumber) (11.3.0)\n",
      "Requirement already satisfied: pypdfium2>=4.18.0 in c:\\vs_code\\projects\\venv\\lib\\site-packages (from pdfplumber) (4.30.0)\n",
      "Requirement already satisfied: charset-normalizer>=2.0.0 in c:\\vs_code\\projects\\venv\\lib\\site-packages (from pdfminer.six==20250506->pdfplumber) (3.4.2)\n",
      "Requirement already satisfied: cryptography>=36.0.0 in c:\\vs_code\\projects\\venv\\lib\\site-packages (from pdfminer.six==20250506->pdfplumber) (45.0.5)\n",
      "Requirement already satisfied: packaging>=21.3 in c:\\vs_code\\projects\\venv\\lib\\site-packages (from pytesseract) (25.0)\n",
      "Requirement already satisfied: cffi>=1.14 in c:\\vs_code\\projects\\venv\\lib\\site-packages (from cryptography>=36.0.0->pdfminer.six==20250506->pdfplumber) (1.17.1)\n",
      "Requirement already satisfied: pycparser in c:\\vs_code\\projects\\venv\\lib\\site-packages (from cffi>=1.14->cryptography>=36.0.0->pdfminer.six==20250506->pdfplumber) (2.22)\n",
      "Note: you may need to restart the kernel to use updated packages.\n"
     ]
    },
    {
     "name": "stderr",
     "output_type": "stream",
     "text": [
      "\n",
      "[notice] A new release of pip is available: 24.2 -> 25.1.1\n",
      "[notice] To update, run: python.exe -m pip install --upgrade pip\n"
     ]
    }
   ],
   "source": [
    "%pip install pdfplumber pytesseract pdf2image"
   ]
  },
  {
   "cell_type": "code",
   "execution_count": 24,
   "metadata": {},
   "outputs": [],
   "source": [
    "import pdfplumber\n",
    "import pytesseract\n",
    "from pdf2image import convert_from_path"
   ]
  },
  {
   "cell_type": "code",
   "execution_count": 25,
   "metadata": {},
   "outputs": [],
   "source": [
    "def extract_text_from_pdf(pdf_path):\n",
    "    text = \"\"\n",
    "    try:\n",
    "        # Try direct text extraction\n",
    "        with pdfplumber.open(pdf_path) as pdf:\n",
    "            for page in pdf.pages:\n",
    "                page_text = page.extract_text()\n",
    "                if page_text:\n",
    "                    text += page_text\n",
    "\n",
    "        if text.strip():\n",
    "            return text.strip()\n",
    "    except Exception as e:\n",
    "        print(f\"Direct text extraction failed: {e}\")\n",
    "\n",
    "    # Fallback to OCR for image-based PDFs\n",
    "    print(\"Falling back to OCR for image-based PDF.\")\n",
    "    try:\n",
    "        images = convert_from_path(pdf_path)\n",
    "        for image in images:\n",
    "            page_text = pytesseract.image_to_string(image)\n",
    "            text += page_text + \"\\n\"\n",
    "    except Exception as e:\n",
    "        print(f\"OCR failed: {e}\")\n",
    "\n",
    "    return text.strip()"
   ]
  },
  {
   "cell_type": "code",
   "execution_count": 26,
   "metadata": {},
   "outputs": [
    {
     "name": "stdout",
     "output_type": "stream",
     "text": [
      "\n",
      "Extracted Text from PDF:\n",
      "AZAD YADAV\n",
      "Azad Yadav §\n",
      "(cid:153)Codeforces — —Leetcode — ˆCodeChef — (cid:160)CodingProfile Azad Yadav (cid:239)\n",
      "+91-7398659498 (cid:131)\n",
      "azadyadav12614@gmail.com #\n",
      "Education\n",
      "National Institute of Technology Raipur Aug 2023 – Present\n",
      "BTech in Computer Science and Engineering - CPI: 8.34 Raipur, Chhattisgarh\n",
      "St. Joseph Inter College, Jaunpur Jun 2022\n",
      "Class 12 (UP Board) - Percentage: 82.80% Jaunpur, Uttar Pradesh\n",
      "St. Joseph Inter College, Jaunpur Jun 2020\n",
      "Class 10 (UP Board) - Percentage: 92.67% Jaunpur, Uttar Pradesh\n",
      "Technical Skills\n",
      "Languages: C++, Python\n",
      "Web Development: FastAPI, HTML5, CSS3, REST APIs, JSON, HTTP\n",
      "Databases: PostgreSQL\n",
      "Libraries: NumPy, Pandas, Matplotlib\n",
      "Tools: Git, GitHub, Postman, VS Code\n",
      "Coursework / Skills\n",
      "• Data Structures & Algorithms • Object-Oriented Programming\n",
      "• Competitive Programming • Web Development\n",
      "• Operating Systems\n",
      "Projects\n",
      "Resume Analyzer API 2025\n",
      "Python, FastAPI, PyMuPDF, NLP\n",
      "– Developed a backend-only resume analyzer using FastAPI.\n",
      "– Parsed PDFs and extracted skills using NLP and keyword matching.\n",
      "– Compared against job role requirements and returned match score.\n",
      "– § github.com/Azdy-28/ResumeAnalyzerAPI\n",
      "Contest Tracker API 2025\n",
      "Python, FastAPI, REST APIs\n",
      "– Built an API-only backend to fetch live/upcoming contests from Codeforces, Leetcode, and CodeChef.\n",
      "– Used public APIs to gather contest details and return structured JSON.\n",
      "– § github.com/Azdy-28/ContestTrackerAPI\n",
      "Achievements\n",
      "• Specialist at Codeforces (Rating: 1460)\n",
      "• Knight at Leetcode (Rating: 1896)\n",
      "• 3-Star at CodeChef (Rating: 1741)\n",
      "• Global Rank 50 in CodeChef Starters 180 (Div. 2)\n",
      "• Solved 500+ problems on CF, LC, CC, and GFG\n",
      "Position of Responsibility\n",
      "Executive Member - Technical Domain 2024\n",
      "Association of Computer Engineers (ACE) NIT Raipur\n",
      "– Organized technical events, CP workshops, and peer mentoring sessions.\n"
     ]
    }
   ],
   "source": [
    "pdf_path = \"Resume.pdf\"\n",
    "resume_text = extract_text_from_pdf(pdf_path)\n",
    "\n",
    "print(\"\\nExtracted Text from PDF:\")\n",
    "print(resume_text)"
   ]
  },
  {
   "cell_type": "markdown",
   "metadata": {},
   "source": [
    "## Set Google GenerativeAI Api Key"
   ]
  },
  {
   "cell_type": "code",
   "execution_count": 27,
   "metadata": {},
   "outputs": [
    {
     "name": "stdout",
     "output_type": "stream",
     "text": [
      "Requirement already satisfied: google.generativeai in c:\\vs_code\\projects\\venv\\lib\\site-packages (0.8.5)\n",
      "Requirement already satisfied: python-dotenv in c:\\vs_code\\projects\\venv\\lib\\site-packages (1.1.1)\n",
      "Requirement already satisfied: google-ai-generativelanguage==0.6.15 in c:\\vs_code\\projects\\venv\\lib\\site-packages (from google.generativeai) (0.6.15)\n",
      "Requirement already satisfied: google-api-core in c:\\vs_code\\projects\\venv\\lib\\site-packages (from google.generativeai) (2.25.1)\n",
      "Requirement already satisfied: google-api-python-client in c:\\vs_code\\projects\\venv\\lib\\site-packages (from google.generativeai) (2.177.0)\n",
      "Requirement already satisfied: google-auth>=2.15.0 in c:\\vs_code\\projects\\venv\\lib\\site-packages (from google.generativeai) (2.40.3)\n",
      "Requirement already satisfied: protobuf in c:\\vs_code\\projects\\venv\\lib\\site-packages (from google.generativeai) (5.29.5)\n",
      "Requirement already satisfied: pydantic in c:\\vs_code\\projects\\venv\\lib\\site-packages (from google.generativeai) (2.11.7)\n",
      "Requirement already satisfied: tqdm in c:\\vs_code\\projects\\venv\\lib\\site-packages (from google.generativeai) (4.67.1)\n",
      "Requirement already satisfied: typing-extensions in c:\\vs_code\\projects\\venv\\lib\\site-packages (from google.generativeai) (4.14.1)\n",
      "Requirement already satisfied: proto-plus<2.0.0dev,>=1.22.3 in c:\\vs_code\\projects\\venv\\lib\\site-packages (from google-ai-generativelanguage==0.6.15->google.generativeai) (1.26.1)\n",
      "Requirement already satisfied: googleapis-common-protos<2.0.0,>=1.56.2 in c:\\vs_code\\projects\\venv\\lib\\site-packages (from google-api-core->google.generativeai) (1.70.0)\n",
      "Requirement already satisfied: requests<3.0.0,>=2.18.0 in c:\\vs_code\\projects\\venv\\lib\\site-packages (from google-api-core->google.generativeai) (2.32.4)\n",
      "Requirement already satisfied: cachetools<6.0,>=2.0.0 in c:\\vs_code\\projects\\venv\\lib\\site-packages (from google-auth>=2.15.0->google.generativeai) (5.5.2)\n",
      "Requirement already satisfied: pyasn1-modules>=0.2.1 in c:\\vs_code\\projects\\venv\\lib\\site-packages (from google-auth>=2.15.0->google.generativeai) (0.4.2)\n",
      "Requirement already satisfied: rsa<5,>=3.1.4 in c:\\vs_code\\projects\\venv\\lib\\site-packages (from google-auth>=2.15.0->google.generativeai) (4.9.1)\n",
      "Requirement already satisfied: httplib2<1.0.0,>=0.19.0 in c:\\vs_code\\projects\\venv\\lib\\site-packages (from google-api-python-client->google.generativeai) (0.22.0)\n",
      "Requirement already satisfied: google-auth-httplib2<1.0.0,>=0.2.0 in c:\\vs_code\\projects\\venv\\lib\\site-packages (from google-api-python-client->google.generativeai) (0.2.0)\n",
      "Requirement already satisfied: uritemplate<5,>=3.0.1 in c:\\vs_code\\projects\\venv\\lib\\site-packages (from google-api-python-client->google.generativeai) (4.2.0)\n",
      "Requirement already satisfied: annotated-types>=0.6.0 in c:\\vs_code\\projects\\venv\\lib\\site-packages (from pydantic->google.generativeai) (0.7.0)\n",
      "Requirement already satisfied: pydantic-core==2.33.2 in c:\\vs_code\\projects\\venv\\lib\\site-packages (from pydantic->google.generativeai) (2.33.2)\n",
      "Requirement already satisfied: typing-inspection>=0.4.0 in c:\\vs_code\\projects\\venv\\lib\\site-packages (from pydantic->google.generativeai) (0.4.1)\n",
      "Requirement already satisfied: colorama in c:\\vs_code\\projects\\venv\\lib\\site-packages (from tqdm->google.generativeai) (0.4.6)\n",
      "Requirement already satisfied: grpcio<2.0.0,>=1.33.2 in c:\\vs_code\\projects\\venv\\lib\\site-packages (from google-api-core[grpc]!=2.0.*,!=2.1.*,!=2.10.*,!=2.2.*,!=2.3.*,!=2.4.*,!=2.5.*,!=2.6.*,!=2.7.*,!=2.8.*,!=2.9.*,<3.0.0dev,>=1.34.1->google-ai-generativelanguage==0.6.15->google.generativeai) (1.74.0)\n",
      "Requirement already satisfied: grpcio-status<2.0.0,>=1.33.2 in c:\\vs_code\\projects\\venv\\lib\\site-packages (from google-api-core[grpc]!=2.0.*,!=2.1.*,!=2.10.*,!=2.2.*,!=2.3.*,!=2.4.*,!=2.5.*,!=2.6.*,!=2.7.*,!=2.8.*,!=2.9.*,<3.0.0dev,>=1.34.1->google-ai-generativelanguage==0.6.15->google.generativeai) (1.71.2)\n",
      "Requirement already satisfied: pyparsing!=3.0.0,!=3.0.1,!=3.0.2,!=3.0.3,<4,>=2.4.2 in c:\\vs_code\\projects\\venv\\lib\\site-packages (from httplib2<1.0.0,>=0.19.0->google-api-python-client->google.generativeai) (3.2.3)\n",
      "Requirement already satisfied: pyasn1<0.7.0,>=0.6.1 in c:\\vs_code\\projects\\venv\\lib\\site-packages (from pyasn1-modules>=0.2.1->google-auth>=2.15.0->google.generativeai) (0.6.1)\n",
      "Requirement already satisfied: charset_normalizer<4,>=2 in c:\\vs_code\\projects\\venv\\lib\\site-packages (from requests<3.0.0,>=2.18.0->google-api-core->google.generativeai) (3.4.2)\n",
      "Requirement already satisfied: idna<4,>=2.5 in c:\\vs_code\\projects\\venv\\lib\\site-packages (from requests<3.0.0,>=2.18.0->google-api-core->google.generativeai) (3.10)\n",
      "Requirement already satisfied: urllib3<3,>=1.21.1 in c:\\vs_code\\projects\\venv\\lib\\site-packages (from requests<3.0.0,>=2.18.0->google-api-core->google.generativeai) (2.5.0)\n",
      "Requirement already satisfied: certifi>=2017.4.17 in c:\\vs_code\\projects\\venv\\lib\\site-packages (from requests<3.0.0,>=2.18.0->google-api-core->google.generativeai) (2025.7.14)\n",
      "Note: you may need to restart the kernel to use updated packages.\n"
     ]
    },
    {
     "name": "stderr",
     "output_type": "stream",
     "text": [
      "\n",
      "[notice] A new release of pip is available: 24.2 -> 25.1.1\n",
      "[notice] To update, run: python.exe -m pip install --upgrade pip\n"
     ]
    }
   ],
   "source": [
    "%pip install google.generativeai python-dotenv"
   ]
  },
  {
   "cell_type": "code",
   "execution_count": 28,
   "metadata": {},
   "outputs": [],
   "source": [
    "import google.generativeai as genai\n",
    "import os\n",
    "from dotenv import load_dotenv\n",
    "\n",
    "load_dotenv()\n",
    "genai.configure(api_key=os.getenv(\"GOOGLE_APAIzaSyAD2K-vBE9lw45xwRXSUUZp4Q2CdGU1g5cI_KEY\"))\n",
    "model = genai.GenerativeModel(\"models/gemini-1.5-flash\")"
   ]
  },
  {
   "cell_type": "code",
   "execution_count": 29,
   "metadata": {},
   "outputs": [],
   "source": [
    "response = model.generate_content(\"What is the capital of India?\")\n"
   ]
  },
  {
   "cell_type": "code",
   "execution_count": 30,
   "metadata": {},
   "outputs": [
    {
     "name": "stdout",
     "output_type": "stream",
     "text": [
      "response:\n",
      "GenerateContentResponse(\n",
      "    done=True,\n",
      "    iterator=None,\n",
      "    result=protos.GenerateContentResponse({\n",
      "      \"candidates\": [\n",
      "        {\n",
      "          \"content\": {\n",
      "            \"parts\": [\n",
      "              {\n",
      "                \"text\": \"The capital of India is **New Delhi**.\\n\"\n",
      "              }\n",
      "            ],\n",
      "            \"role\": \"model\"\n",
      "          },\n",
      "          \"finish_reason\": \"STOP\",\n",
      "          \"avg_logprobs\": -0.000936688482761383\n",
      "        }\n",
      "      ],\n",
      "      \"usage_metadata\": {\n",
      "        \"prompt_token_count\": 7,\n",
      "        \"candidates_token_count\": 10,\n",
      "        \"total_token_count\": 17\n",
      "      },\n",
      "      \"model_version\": \"gemini-1.5-flash\"\n",
      "    }),\n",
      ")\n"
     ]
    }
   ],
   "source": [
    "print(response)"
   ]
  },
  {
   "cell_type": "code",
   "execution_count": 31,
   "metadata": {},
   "outputs": [
    {
     "name": "stdout",
     "output_type": "stream",
     "text": [
      "The capital of India is **New Delhi**.\n",
      "\n"
     ]
    }
   ],
   "source": [
    "print(response.text)"
   ]
  },
  {
   "cell_type": "markdown",
   "metadata": {},
   "source": [
    "## Resume Analysis"
   ]
  },
  {
   "cell_type": "code",
   "execution_count": 32,
   "metadata": {},
   "outputs": [],
   "source": [
    "def analyze_resume(resume_text, job_description=None):\n",
    "    if not resume_text:\n",
    "        return {\"error\": \"Resume text is required for analysis.\"}\n",
    "    \n",
    "    model = genai.GenerativeModel(\"gemini-1.5-flash\")\n",
    "    \n",
    "    base_prompt = f\"\"\"\n",
    "    You are an experienced HR with Technical Experience in the field of any one job role from Data Science, Data Analyst, DevOPS, Machine Learning Engineer, Prompt Engineer, AI Engineer, Full Stack Web Development, Big Data Engineering, Marketing Analyst, Human Resource Manager, Software Developer your task is to review the provided resume.\n",
    "    Please share your professional evaluation on whether the candidate's profile aligns with the role.ALso mention Skills he already have and siggest some skills to imorve his resume , alos suggest some course he might take to improve the skills.Highlight the strengths and weaknesses.\n",
    "\n",
    "    Resume:\n",
    "    {resume_text}\n",
    "    \"\"\"\n",
    "\n",
    "    if job_description:\n",
    "        base_prompt += f\"\"\"\n",
    "        Additionally, compare this resume to the following job description:\n",
    "        \n",
    "        Job Description:\n",
    "        {job_description}\n",
    "        \n",
    "        Highlight the strengths and weaknesses of the applicant in relation to the specified job requirements.\n",
    "        \"\"\"\n",
    "\n",
    "    response = model.generate_content(base_prompt)\n",
    "\n",
    "    analysis = response.text.strip()\n",
    "    return analysis"
   ]
  },
  {
   "cell_type": "code",
   "execution_count": 33,
   "metadata": {},
   "outputs": [
    {
     "name": "stdout",
     "output_type": "stream",
     "text": [
      "## Resume Evaluation for Azad Yadav\n",
      "\n",
      "**Role Assumed for Evaluation:**  Software Developer (Backend Focus)\n",
      "\n",
      "This evaluation assumes Azad is applying for a backend software developer role, given his projects and skills.  My expertise is in Software Development.\n",
      "\n",
      "\n",
      "**Strengths:**\n",
      "\n",
      "* **Strong Foundation:** Azad possesses a solid foundation in computer science fundamentals (Data Structures & Algorithms, OOP) demonstrated by his coursework and competitive programming achievements.\n",
      "* **Excellent Coding Skills:** His competitive programming rankings (Codeforces, LeetCode, CodeChef) are impressive, indicating a high level of proficiency in problem-solving and coding.  This is a major strength.\n",
      "* **Relevant Projects:** The Resume Analyzer and Contest Tracker APIs are well-aligned with backend development roles.  They showcase his ability to design, implement, and deploy RESTful APIs using FastAPI. The use of NLP in the Resume Analyzer is a plus.\n",
      "* **Technical Skills:** He has a good grasp of relevant technologies including Python, FastAPI, databases (PostgreSQL), and relevant libraries (NumPy, Pandas, though less critical for a backend role focused on APIs).\n",
      "* **GitHub Presence:** Publicly available repositories demonstrate his ability to work on projects independently and showcase his code.\n",
      "* **Extracurricular Activities:**  His involvement as an Executive Member in ACE NIT Raipur highlights leadership and teamwork skills.\n",
      "\n",
      "**Weaknesses:**\n",
      "\n",
      "* **Limited Project Scope:** While the projects are good, they are relatively small-scale.  Adding a larger, more complex project (maybe involving a team) would strengthen his application significantly.\n",
      "* **Lack of Frontend Experience:** The resume focuses solely on backend development. Some basic frontend skills (JavaScript, React, Angular, or Vue.js) would broaden his appeal to a wider range of roles.\n",
      "* **Resume Formatting:** The resume's formatting is inconsistent and uses unconventional symbols.  A professionally formatted resume is crucial.\n",
      "* **Missing Deployment Details:**  The resume lacks details on how the APIs were deployed (e.g., using Docker, AWS, Heroku). This is vital for demonstrating practical deployment skills.\n",
      "* **Absence of specific quantitative results:**  The projects mention functionality but lack quantifiable achievements (e.g., \"Improved API response time by X%,\" \"Reduced error rate by Y%\").\n",
      "\n",
      "\n",
      "**Skills to Improve:**\n",
      "\n",
      "* **Frontend Frameworks:** JavaScript, React, Angular, or Vue.js\n",
      "* **Cloud Platforms:** AWS, Azure, or GCP (at least foundational knowledge)\n",
      "* **Containerization:** Docker and Kubernetes\n",
      "* **Database Design:**  Normalization, optimization techniques\n",
      "* **Testing Frameworks:** Unit testing (pytest), integration testing\n",
      "* **Version Control Best Practices:** More detailed experience with Git branching strategies (e.g., Gitflow)\n",
      "* **Software Development Lifecycle (SDLC):** Agile methodologies\n",
      "\n",
      "\n",
      "**Suggested Courses:**\n",
      "\n",
      "* **Frontend Development:**  A course on React, Angular, or Vue.js from Udemy, Coursera, or edX.\n",
      "* **Cloud Computing:** AWS, Azure, or GCP certification courses.\n",
      "* **Docker and Kubernetes:** Courses on Docker and Kubernetes deployment from platforms like Udemy or A Cloud Guru.\n",
      "* **Advanced Python:**  A course focusing on advanced Python concepts and libraries useful for backend development (e.g., asynchronous programming with Asyncio).\n",
      "* **Testing and Quality Assurance:**  A course covering unit testing, integration testing, and best practices.\n",
      "\n",
      "\n",
      "**Overall Assessment:**\n",
      "\n",
      "Azad's resume showcases a promising candidate with excellent coding skills and a solid foundation in backend development. However, addressing the weaknesses mentioned above, particularly by adding a larger, more complex project, showcasing deployment experience and acquiring frontend skills, would significantly enhance his candidacy.  His current skills are suitable for entry-level backend roles, but further development will open up more opportunities.  He needs to make his resume more visually appealing and provide quantifiable results from his projects.\n"
     ]
    }
   ],
   "source": [
    "print(analyze_resume(resume_text))\n"
   ]
  }
 ],
 "metadata": {
  "kernelspec": {
   "display_name": "venv",
   "language": "python",
   "name": "python3"
  },
  "language_info": {
   "codemirror_mode": {
    "name": "ipython",
    "version": 3
   },
   "file_extension": ".py",
   "mimetype": "text/x-python",
   "name": "python",
   "nbconvert_exporter": "python",
   "pygments_lexer": "ipython3",
   "version": "3.12.6"
  }
 },
 "nbformat": 4,
 "nbformat_minor": 2
}
